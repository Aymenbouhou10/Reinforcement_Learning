{
 "cells": [
  {
   "attachments": {},
   "cell_type": "markdown",
   "metadata": {},
   "source": [
    "<h1><center>Evaluation apprentissage par renforcement</center></h1>\n",
    "<h3><center>Groupe : Aymen BOUHOU - Mohammed Zineddine BOUCHERIR - El Mehdi BECHNIKHA<h3><center>"
   ]
  },
  {
   "cell_type": "markdown",
   "metadata": {},
   "source": [
    "### Execice 1 - Prédiction "
   ]
  },
  {
   "cell_type": "markdown",
   "metadata": {},
   "source": [
    "Importation des bibliotheques"
   ]
  },
  {
   "cell_type": "code",
   "execution_count": 95,
   "metadata": {},
   "outputs": [],
   "source": [
    "import base\n",
    "import sys\n",
    "import numpy as np\n",
    "import matplotlib.pyplot as plt\n",
    "import seaborn as sns\n",
    "import math\n",
    "import random\n",
    "\n",
    "import warnings\n",
    "warnings.filterwarnings(\"ignore\")"
   ]
  },
  {
   "cell_type": "markdown",
   "metadata": {},
   "source": [
    "##### Question 1- "
   ]
  },
  {
   "cell_type": "markdown",
   "metadata": {},
   "source": [
    "Implémentation de l'algorithme de prédiction Monte-Carlo (MC)"
   ]
  },
  {
   "cell_type": "code",
   "execution_count": 43,
   "metadata": {},
   "outputs": [],
   "source": [
    "def MC(pi,env, nb_episode=100, gamma=0.5, na=4):\n",
    "\n",
    "    nbr_state = env.get_nb_states()\n",
    "    S = np.zeros(nbr_state)\n",
    "    V = np.zeros(nbr_state)\n",
    "    n = np.zeros(nbr_state)\n",
    "\n",
    "    for i in range(nb_episode):\n",
    "        final = False\n",
    "        s = env.reset()\n",
    "        episode = []\n",
    "    \n",
    "        while not final:\n",
    "            a = np.random.choice(na, p=pi[s])\n",
    "            ns, r, final, _ = env.step(a)\n",
    "            episode.append([s, a, r, ns])\n",
    "            s = ns\n",
    "\n",
    "        g = 0\n",
    "        for s, a, r, ns in reversed(episode):\n",
    "            g = r + gamma * g\n",
    "            n[s] += 1\n",
    "            S[s] += g\n",
    "            V[s] = S[s] / n[s]\n",
    "    \n",
    "    return V    "
   ]
  },
  {
   "cell_type": "markdown",
   "metadata": {},
   "source": [
    "Implémentation de l'algorithme de prédiction Temporal-Difference (TD0)"
   ]
  },
  {
   "cell_type": "code",
   "execution_count": 44,
   "metadata": {},
   "outputs": [],
   "source": [
    "def TD0(pi,env, nb_episode=100 , alpha=0.1, gamma=0.5, na=4):\n",
    "    \n",
    "    nbr_state = env.get_nb_states()\n",
    "    V = np.zeros(nbr_state)\n",
    "    \n",
    "    for i in range(nb_episode):\n",
    "        final = False\n",
    "        s = env.reset()\n",
    "        \n",
    "        while not final:\n",
    "            a = np.random.choice(na, p=pi[s])\n",
    "            ns, r, final, _ = env.step(a)\n",
    "            V[s] += alpha*(r+gamma*V[ns]-V[s])\n",
    "            s = ns\n",
    "    \n",
    "    return V "
   ]
  },
  {
   "cell_type": "markdown",
   "metadata": {},
   "source": [
    "##### Question 2- "
   ]
  },
  {
   "cell_type": "markdown",
   "metadata": {},
   "source": [
    "Comparaison entre MC et TD(0) à partir du calcul de l'erreur de prédiction par une distance euclidienne entre les vecteurs de valeurs calculés et le vecteur de valeurs produit par IPE"
   ]
  },
  {
   "cell_type": "markdown",
   "metadata": {},
   "source": [
    "Implémentation de l'algorithme de prediction IPE qui servira comme algo de base pour la camparaison entre MC et TD0 "
   ]
  },
  {
   "cell_type": "code",
   "execution_count": 45,
   "metadata": {},
   "outputs": [],
   "source": [
    "def calculer_q(env, v, gamma=0.5):\n",
    "    return np.sum(env.p() * (env.r() + gamma*v[np.newaxis, np.newaxis, :]), axis=2)\n",
    "\n",
    "def ipe(pi, env, gamma=0.5, epsilon=0.01):\n",
    "    nbr_state = env.get_nb_states()\n",
    "\n",
    "    v = np.zeros((nbr_state))\n",
    "    q = calculer_q(env, v, gamma)\n",
    "    nv = np.sum(pi * q, axis=1)\n",
    "    \n",
    "    delta = np.sum(np.abs(nv - v))\n",
    "    while delta > epsilon:\n",
    "        v = nv\n",
    "        q = calculer_q(env, v, gamma)\n",
    "        nv = np.sum(pi * q, axis=1)\n",
    "        delta = np.sum(np.abs(nv - v))\n",
    "    \n",
    "    return nv"
   ]
  },
  {
   "cell_type": "markdown",
   "metadata": {},
   "source": [
    "Définition de l'environnement :  \n",
    "- Environnement de type Maze ;\n",
    "- Appliquons la politique pi = \" Dans chaque état appliquer les probabilités d'actions {W: 0.1, S:0.4, E:0.4, N:0.1} \""
   ]
  },
  {
   "cell_type": "code",
   "execution_count": 117,
   "metadata": {},
   "outputs": [
    {
     "data": {
      "text/plain": [
       "array([[0.1, 0.4, 0.4, 0.1],\n",
       "       [0.1, 0.4, 0.4, 0.1],\n",
       "       [0.1, 0.4, 0.4, 0.1],\n",
       "       [0.1, 0.4, 0.4, 0.1],\n",
       "       [0.1, 0.4, 0.4, 0.1],\n",
       "       [0.1, 0.4, 0.4, 0.1],\n",
       "       [0.1, 0.4, 0.4, 0.1],\n",
       "       [0.1, 0.4, 0.4, 0.1],\n",
       "       [0.1, 0.4, 0.4, 0.1],\n",
       "       [0.1, 0.4, 0.4, 0.1],\n",
       "       [0.1, 0.4, 0.4, 0.1],\n",
       "       [0.1, 0.4, 0.4, 0.1],\n",
       "       [0.1, 0.4, 0.4, 0.1],\n",
       "       [0.1, 0.4, 0.4, 0.1],\n",
       "       [0.1, 0.4, 0.4, 0.1],\n",
       "       [0.1, 0.4, 0.4, 0.1]])"
      ]
     },
     "execution_count": 117,
     "metadata": {},
     "output_type": "execute_result"
    }
   ],
   "source": [
    "env = base.Maze()\n",
    "nbr_state = env.get_nb_states()\n",
    "na = env.get_nb_actions()\n",
    "pi = np.array([[0.1, 0.4, 0.4, 0.1]]*nbr_state)"
   ]
  },
  {
   "cell_type": "markdown",
   "metadata": {},
   "source": [
    "Les valeurs d'état de l'algorithme MC suivant la politique pi, dans l'environnement Maze, apres 100 nombre d'episodes, de gamma 0.5 et de nombre d'actions 4, sont :"
   ]
  },
  {
   "cell_type": "code",
   "execution_count": 118,
   "metadata": {},
   "outputs": [
    {
     "data": {
      "text/plain": [
       "array([1.87266858e+01, 7.03630792e+01, 2.37606299e+02, 0.00000000e+00,\n",
       "       2.32059740e+00, 0.00000000e+00, 4.46730295e+01, 0.00000000e+00,\n",
       "       5.64855170e+00, 3.68180543e+01, 1.33546177e+02, 0.00000000e+00,\n",
       "       4.27231659e-01, 0.00000000e+00, 5.22027445e+02, 0.00000000e+00])"
      ]
     },
     "execution_count": 118,
     "metadata": {},
     "output_type": "execute_result"
    }
   ],
   "source": [
    "MC(pi,env)"
   ]
  },
  {
   "cell_type": "markdown",
   "metadata": {},
   "source": [
    "Les valeurs d'état de l'algorithme TD0 suivant la politique pi, dans l'environnement Maze, apres 100 nombre d'episodes, de gamma 0.5 et de nombre d'actions 4, sont :"
   ]
  },
  {
   "cell_type": "code",
   "execution_count": 48,
   "metadata": {},
   "outputs": [
    {
     "data": {
      "text/plain": [
       "array([ 10.17154825,  56.547592  , 256.28635347,   0.        ,\n",
       "         2.60205757,   0.        ,  49.20626779,   0.        ,\n",
       "         8.56417887,  32.42509916, 122.79266406,   0.        ,\n",
       "         0.65897666,   0.        , 477.62415278,   0.        ])"
      ]
     },
     "execution_count": 48,
     "metadata": {},
     "output_type": "execute_result"
    }
   ],
   "source": [
    "TD0(pi,env)"
   ]
  },
  {
   "cell_type": "markdown",
   "metadata": {},
   "source": [
    "Les valeurs d'état de l'algorithme IPE suivant la politique pi, dans l'environnement Maze, apres 100 nombre d'episodes, de gamma 0.5 et de nombre d'actions 4, sont :"
   ]
  },
  {
   "cell_type": "code",
   "execution_count": 49,
   "metadata": {},
   "outputs": [
    {
     "data": {
      "text/plain": [
       "array([ 11.59279286,  49.16764138, 181.48179409,   0.        ,\n",
       "         3.00185758,   0.        ,  49.74737104,   0.        ,\n",
       "         8.36084783,  38.20592509, 141.18327338,   0.        ,\n",
       "         0.75939102,   0.        , 542.745494  ,   0.        ])"
      ]
     },
     "execution_count": 49,
     "metadata": {},
     "output_type": "execute_result"
    }
   ],
   "source": [
    "ipe(pi,env)"
   ]
  },
  {
   "cell_type": "markdown",
   "metadata": {},
   "source": [
    "Calcul des erreurs de prédiction par une distance \n",
    "euclidienne entre MC/TD0 et IPE"
   ]
  },
  {
   "cell_type": "code",
   "execution_count": 119,
   "metadata": {},
   "outputs": [],
   "source": [
    "MC_errors=[np.linalg.norm(MC(pi,env,nb_episode) - ipe(pi,env)) for nb_episode in range(1,2000,50)]"
   ]
  },
  {
   "cell_type": "code",
   "execution_count": 120,
   "metadata": {},
   "outputs": [],
   "source": [
    "TD0_errors=[np.linalg.norm(TD0(pi,env,nb_episode) - ipe(pi,env)) for nb_episode in range(1,2000,50)]"
   ]
  },
  {
   "cell_type": "markdown",
   "metadata": {},
   "source": [
    "Représentation graphique de l'évolution de l'erreur en fonction du nombre \n",
    "d'épisodes effectués"
   ]
  },
  {
   "cell_type": "code",
   "execution_count": 52,
   "metadata": {},
   "outputs": [
    {
     "data": {
      "image/png": "[encoded data removed]",
      "text/plain": [
       "<Figure size 640x480 with 1 Axes>"
      ]
     },
     "metadata": {},
     "output_type": "display_data"
    }
   ],
   "source": [
    "MC_errors = np.array(MC_errors)\n",
    "TD0_errors = np.array(TD0_errors)\n",
    "\n",
    "fig, ax = plt.subplots()\n",
    "\n",
    "ax.plot(range(1,1000,50),MC_errors, label='MC errors')\n",
    "ax.plot(range(1,1000,50),TD0_errors, label='TD0 errors')\n",
    "\n",
    "ax.set(xlabel=\"Nb d'episodes\", ylabel='Erreurs', title=\"Evolution de l'erreur en fonction du nombre d'episodes\")\n",
    "ax.legend()\n",
    "\n",
    "plt.show()"
   ]
  },
  {
   "cell_type": "markdown",
   "metadata": {},
   "source": [
    "On remarque que l'algorithme MC a convergé rapidement alors que l'algorithme TD0 a pris plus de temps pour converger. C'est parce que MC est efficace avec des valeurs petites et trouve rapidement les bonnes valeurs."
   ]
  },
  {
   "cell_type": "markdown",
   "metadata": {},
   "source": [
    "### Execice 2 - Contrôle "
   ]
  },
  {
   "cell_type": "code",
   "execution_count": 115,
   "metadata": {},
   "outputs": [],
   "source": [
    "def egreedy(q, s, nb_episode, epsilon, D):\n",
    "    \n",
    "    if nb_episode <= D:\n",
    "        ep = epsilon\n",
    "    else:\n",
    "        ep = epsilon / math.sqrt(nb_episode - D)\n",
    "    \n",
    "    if np.random.rand()<ep:     \n",
    "        return np.random.randint(0, q.shape[1])\n",
    "    else:\n",
    "        return np.argmax(q[s])"
   ]
  },
  {
   "cell_type": "code",
   "execution_count": null,
   "metadata": {},
   "outputs": [],
   "source": [
    "def softmax(q, s, nb_episode, T0, D):\n",
    "    \n",
    "    if nb_episode <= D:\n",
    "        T = T0\n",
    "    else:\n",
    "        T = T0 / math.sqrt(nb_episode - D)\n",
    "        \n",
    "    exp_val = [math.exp(i / T) for i in q[s]]\n",
    "    softmax_values = [i / np.sum(exp_val) for i in exp_val]\n",
    "    return random.choices(range(len(q[s])), np.divide(softmax_values, np.sum(softmax_values)), k=1)[0]"
   ]
  },
  {
   "cell_type": "code",
   "execution_count": 54,
   "metadata": {},
   "outputs": [],
   "source": [
    "\n",
    "def monte_carlo_control(env, gamma = 0.5, epsilon = 0.5, T0 = 100, nb_ep_limit = 1000, D = 4000, methode = \"egreedy\"):\n",
    "    \n",
    "    na = env.get_nb_actions()\n",
    "    q = np.zeros((env.get_nb_states(), na))\n",
    "    n = np.zeros((env.get_nb_states(), na))\n",
    "    \n",
    "    gain = np.zeros(nb_ep_limit)\n",
    "    nbs = np.zeros(nb_ep_limit)\n",
    "    \n",
    "    pi = np.ones((env.get_nb_states(), na)) / na\n",
    "    print(pi.shape)\n",
    "    \n",
    "    for k in range(1, nb_ep_limit+1):\n",
    "        # Faire un episode\n",
    "        s = env.reset()\n",
    "        episode = []\n",
    "    \n",
    "        while not env.is_final(s):\n",
    "            a = np.random.choice(na, p = [0.25,0.25,0.25,0.25]) \n",
    "            ns, r, _, _ = env.step(a)\n",
    "            episode.append([s, a, ns, r])\n",
    "            s = ns\n",
    "        \n",
    "        # Mettre à jour Q\n",
    "        retour = 0\n",
    "        \n",
    "        for s, a, ns, r in reversed(episode):\n",
    "            retour = r + gamma * retour\n",
    "            n[s, a] += 1\n",
    "            q[s, a] += 1/n[s, a]*(retour - q[s, a])\n",
    "    \n",
    "        \n",
    "        # Mettre à jour epsilon et pi\n",
    "        epsilon = 1 / k\n",
    "        \n",
    "        if methode == \"egreedy\":\n",
    "            pi = egreedy(q, s, len(episode), epsilon, D)\n",
    "        elif methode == \"softmax\":\n",
    "            pi = softmax(q, s, len(episode), T0, D)\n",
    "        else:\n",
    "            print(\"Méthode non reconnue\")\n",
    "            sys.exit()\n",
    "        \n",
    "        pi = egreedy(q, s, len(episode), epsilon, D) \n",
    "        gain[k-1] = retour\n",
    "        nbs[k-1] = len(episode)\n",
    "        \n",
    "    return gain"
   ]
  },
  {
   "cell_type": "code",
   "execution_count": 55,
   "metadata": {},
   "outputs": [
    {
     "name": "stdout",
     "output_type": "stream",
     "text": [
      "(16, 4)\n"
     ]
    },
    {
     "data": {
      "text/plain": [
       "array([ 400., 1000.,  400.,  400.,  400.,  400.,  400.,  400.,  400.,\n",
       "       1000.,  400.,  400., 1000.,  400., 1000., 1000., 1000.,  400.,\n",
       "        400., 1000., 1000.,  400., 1000.,  400.,  400.,  400.,  400.,\n",
       "       1000., 1000.,  400., 1000.,  400.,  400.,  400., 1000., 1000.,\n",
       "        400.,  400., 1000.,  400.,  400., 1000.,  400.,  400.,  400.,\n",
       "        400.,  400., 1000.,  400.,  400., 1000., 1000., 1000.,  400.,\n",
       "        400.,  400., 1000.,  400.,  400., 1000.,  400.,  400.,  400.,\n",
       "       1000.,  400., 1000.,  400.,  400.,  400.,  400.,  400., 1000.,\n",
       "        400., 1000., 1000., 1000., 1000.,  400.,  400.,  400.,  400.,\n",
       "       1000., 1000.,  400., 1000., 1000.,  400.,  400.,  400.,  400.,\n",
       "        400., 1000.,  400., 1000.,  400.,  400.,  400.,  400.,  400.,\n",
       "        400.,  400.,  400., 1000., 1000.,  400., 1000.,  400., 1000.,\n",
       "        400.,  400.,  400., 1000.,  400.,  400.,  400., 1000.,  400.,\n",
       "        400., 1000.,  400.,  400., 1000.,  400., 1000.,  400.,  400.,\n",
       "        400., 1000.,  400.,  400.,  400.,  400.,  400., 1000.,  400.,\n",
       "        400.,  400.,  400., 1000.,  400., 1000.,  400., 1000.,  400.,\n",
       "        400.,  400.,  400.,  400.,  400.,  400., 1000., 1000.,  400.,\n",
       "        400.,  400.,  400., 1000.,  400.,  400.,  400.,  400., 1000.,\n",
       "        400., 1000.,  400.,  400.,  400., 1000.,  400.,  400.,  400.,\n",
       "        400.,  400.,  400., 1000.,  400., 1000.,  400.,  400., 1000.,\n",
       "       1000., 1000.,  400.,  400.,  400.,  400.,  400.,  400., 1000.,\n",
       "        400.,  400., 1000.,  400.,  400.,  400.,  400., 1000.,  400.,\n",
       "       1000., 1000.,  400., 1000., 1000.,  400.,  400.,  400., 1000.,\n",
       "       1000.,  400., 1000.,  400., 1000.,  400.,  400., 1000.,  400.,\n",
       "       1000.,  400.,  400.,  400.,  400., 1000., 1000.,  400.,  400.,\n",
       "       1000., 1000.,  400., 1000.,  400.,  400.,  400.,  400.,  400.,\n",
       "        400., 1000.,  400.,  400.,  400.,  400.,  400.,  400.,  400.,\n",
       "       1000., 1000.,  400.,  400.,  400.,  400., 1000., 1000., 1000.,\n",
       "        400., 1000.,  400.,  400., 1000.,  400., 1000.,  400.,  400.,\n",
       "        400.,  400.,  400., 1000.,  400., 1000., 1000.,  400.,  400.,\n",
       "       1000., 1000.,  400.,  400., 1000., 1000.,  400., 1000., 1000.,\n",
       "        400., 1000.,  400., 1000., 1000.,  400., 1000.,  400.,  400.,\n",
       "       1000.,  400.,  400.,  400., 1000.,  400.,  400.,  400.,  400.,\n",
       "        400.,  400.,  400.,  400., 1000., 1000., 1000., 1000.,  400.,\n",
       "       1000., 1000., 1000.,  400.,  400., 1000.,  400.,  400.,  400.,\n",
       "        400.,  400., 1000., 1000.,  400.,  400.,  400.,  400.,  400.,\n",
       "        400., 1000.,  400., 1000., 1000., 1000., 1000., 1000.,  400.,\n",
       "        400.,  400., 1000.,  400.,  400.,  400., 1000.,  400.,  400.,\n",
       "        400.,  400., 1000., 1000.,  400., 1000.,  400.,  400.,  400.,\n",
       "       1000.,  400., 1000.,  400., 1000., 1000.,  400., 1000.,  400.,\n",
       "       1000.,  400.,  400.,  400.,  400.,  400.,  400.,  400., 1000.,\n",
       "        400.,  400., 1000., 1000., 1000., 1000.,  400.,  400., 1000.,\n",
       "        400.,  400., 1000., 1000.,  400.,  400.,  400., 1000., 1000.,\n",
       "        400.,  400.,  400.,  400.,  400., 1000.,  400.,  400.,  400.,\n",
       "        400., 1000., 1000.,  400.,  400.,  400., 1000., 1000.,  400.,\n",
       "       1000.,  400.,  400., 1000., 1000., 1000.,  400., 1000.,  400.,\n",
       "        400.,  400.,  400.,  400., 1000., 1000., 1000.,  400., 1000.,\n",
       "       1000.,  400.,  400.,  400., 1000., 1000.,  400., 1000.,  400.,\n",
       "        400., 1000., 1000.,  400., 1000.,  400.,  400., 1000.,  400.,\n",
       "        400., 1000.,  400., 1000., 1000.,  400.,  400.,  400.,  400.,\n",
       "        400.,  400.,  400., 1000., 1000.,  400., 1000.,  400.,  400.,\n",
       "        400.,  400.,  400.,  400.,  400.,  400., 1000.,  400., 1000.,\n",
       "       1000.,  400., 1000.,  400.,  400.,  400., 1000.,  400.,  400.,\n",
       "       1000.,  400., 1000., 1000., 1000.,  400.,  400., 1000., 1000.,\n",
       "        400.,  400., 1000.,  400., 1000., 1000., 1000., 1000.,  400.,\n",
       "        400., 1000.,  400.,  400.,  400.,  400.,  400.,  400.,  400.,\n",
       "        400.,  400., 1000.,  400.,  400.,  400.,  400., 1000.,  400.,\n",
       "       1000.,  400.,  400., 1000., 1000., 1000.,  400.,  400.,  400.,\n",
       "        400.,  400.,  400., 1000.,  400., 1000.,  400., 1000., 1000.,\n",
       "        400., 1000.,  400., 1000.,  400., 1000.,  400.,  400.,  400.,\n",
       "        400.,  400., 1000.,  400., 1000., 1000.,  400.,  400., 1000.,\n",
       "        400.,  400.,  400.,  400., 1000.,  400.,  400.,  400., 1000.,\n",
       "        400.,  400.,  400.,  400., 1000., 1000.,  400.,  400.,  400.,\n",
       "        400., 1000.,  400.,  400., 1000.,  400.,  400., 1000.,  400.,\n",
       "        400.,  400., 1000.,  400., 1000.,  400., 1000.,  400.,  400.,\n",
       "       1000.,  400.,  400.,  400.,  400.,  400., 1000.,  400.,  400.,\n",
       "        400., 1000.,  400.,  400.,  400.,  400.,  400., 1000., 1000.,\n",
       "        400., 1000.,  400., 1000.,  400., 1000.,  400.,  400.,  400.,\n",
       "        400.,  400.,  400.,  400.,  400.,  400.,  400.,  400.,  400.,\n",
       "       1000., 1000.,  400., 1000., 1000., 1000.,  400.,  400., 1000.,\n",
       "       1000.,  400., 1000.,  400.,  400., 1000., 1000., 1000.,  400.,\n",
       "        400.,  400., 1000., 1000.,  400., 1000.,  400.,  400., 1000.,\n",
       "       1000., 1000.,  400.,  400.,  400.,  400.,  400., 1000.,  400.,\n",
       "        400.,  400.,  400.,  400., 1000.,  400., 1000.,  400., 1000.,\n",
       "        400., 1000.,  400.,  400.,  400.,  400., 1000.,  400., 1000.,\n",
       "        400.,  400., 1000.,  400.,  400., 1000.,  400., 1000.,  400.,\n",
       "       1000.,  400., 1000., 1000.,  400., 1000.,  400.,  400.,  400.,\n",
       "        400.,  400.,  400., 1000., 1000.,  400.,  400., 1000.,  400.,\n",
       "        400.,  400.,  400., 1000., 1000.,  400., 1000.,  400.,  400.,\n",
       "        400., 1000., 1000., 1000., 1000.,  400.,  400.,  400., 1000.,\n",
       "        400.,  400.,  400.,  400., 1000.,  400.,  400.,  400.,  400.,\n",
       "        400.,  400.,  400., 1000.,  400.,  400., 1000., 1000.,  400.,\n",
       "        400.,  400., 1000., 1000.,  400.,  400.,  400., 1000.,  400.,\n",
       "       1000.,  400.,  400.,  400.,  400.,  400.,  400.,  400.,  400.,\n",
       "        400.,  400.,  400., 1000., 1000.,  400.,  400.,  400., 1000.,\n",
       "        400.,  400.,  400., 1000., 1000., 1000.,  400.,  400., 1000.,\n",
       "       1000., 1000.,  400., 1000.,  400.,  400.,  400., 1000.,  400.,\n",
       "       1000.,  400., 1000., 1000.,  400.,  400.,  400.,  400.,  400.,\n",
       "        400., 1000.,  400.,  400., 1000.,  400.,  400., 1000.,  400.,\n",
       "       1000.,  400.,  400.,  400.,  400.,  400., 1000., 1000.,  400.,\n",
       "        400., 1000.,  400., 1000., 1000.,  400., 1000.,  400., 1000.,\n",
       "        400., 1000.,  400.,  400.,  400.,  400.,  400., 1000.,  400.,\n",
       "        400.,  400.,  400.,  400.,  400.,  400.,  400.,  400.,  400.,\n",
       "        400., 1000., 1000.,  400.,  400.,  400.,  400.,  400.,  400.,\n",
       "        400.,  400.,  400.,  400., 1000.,  400., 1000., 1000.,  400.,\n",
       "        400., 1000., 1000., 1000., 1000., 1000.,  400.,  400.,  400.,\n",
       "        400.,  400., 1000.,  400.,  400.,  400., 1000.,  400.,  400.,\n",
       "        400., 1000.,  400.,  400.,  400.,  400.,  400., 1000., 1000.,\n",
       "        400.,  400.,  400.,  400., 1000., 1000.,  400.,  400.,  400.,\n",
       "        400., 1000.,  400.,  400.,  400.,  400.,  400., 1000.,  400.,\n",
       "       1000., 1000., 1000.,  400.,  400.,  400.,  400.,  400., 1000.,\n",
       "        400.,  400., 1000.,  400.,  400.,  400.,  400., 1000., 1000.,\n",
       "       1000.,  400.,  400.,  400.,  400., 1000.,  400.,  400.,  400.,\n",
       "       1000.,  400., 1000.,  400., 1000., 1000.,  400.,  400.,  400.,\n",
       "        400.,  400., 1000.,  400.,  400.,  400., 1000.,  400.,  400.,\n",
       "        400., 1000.,  400.,  400., 1000.,  400., 1000.,  400., 1000.,\n",
       "        400.,  400.,  400.,  400.,  400., 1000.,  400., 1000.,  400.,\n",
       "        400., 1000.,  400.,  400.,  400.,  400., 1000.,  400.,  400.,\n",
       "       1000.,  400., 1000., 1000., 1000., 1000.,  400.,  400.,  400.,\n",
       "       1000.,  400.,  400.,  400.,  400.,  400.,  400.,  400.,  400.,\n",
       "       1000., 1000., 1000.,  400.,  400., 1000.,  400., 1000.,  400.,\n",
       "        400.])"
      ]
     },
     "execution_count": 55,
     "metadata": {},
     "output_type": "execute_result"
    }
   ],
   "source": [
    "monte_carlo_control(env, gamma = 1, nb_ep_limit= 1000, epsilon=1, D=4000)"
   ]
  },
  {
   "cell_type": "code",
   "execution_count": 56,
   "metadata": {},
   "outputs": [],
   "source": [
    "def qlearning(env, gamma = 0.5, alpha = 0.5, epsilon = 0.5, T0 = 100, nb_ep_limit = 1000, D = 4000, methode = \"egreedy\"):\n",
    "    \n",
    "    na = env.get_nb_actions()\n",
    "    q = np.zeros((env.get_nb_states(), na))\n",
    "    gain = np.zeros(nb_ep_limit)\n",
    "    nbs = np.zeros(nb_ep_limit)\n",
    "    \n",
    "    for k in range(1, nb_ep_limit+1):      \n",
    "        \n",
    "        s = env.reset()\n",
    "        while not env.is_final(s):\n",
    "            \n",
    "            if methode == \"egreedy\":\n",
    "                a = egreedy(q, s, k, epsilon, D)\n",
    "            elif methode == \"softmax\":\n",
    "                a = softmax(q, s, k, T0, D)\n",
    "            else:\n",
    "                print(\"Méthode non reconnue\")\n",
    "                sys.exit()\n",
    "            \n",
    "            ns, r, final, _ = env.step(a)\n",
    "            \n",
    "            if final:\n",
    "                \n",
    "                target = r\n",
    "            else:\n",
    "                target = r + gamma * np.max(q[ns])\n",
    "                \n",
    "            gain[k-1] += r\n",
    "            nbs[k-1] += 1\n",
    "            q[s, a] += alpha * (target - q[s, a])\n",
    "            s = ns\n",
    "    \n",
    "    return gain"
   ]
  },
  {
   "cell_type": "code",
   "execution_count": 71,
   "metadata": {},
   "outputs": [
    {
     "data": {
      "text/plain": [
       "array([ 400.,  400.,  400., ..., 1000., 1000., 1000.])"
      ]
     },
     "execution_count": 71,
     "metadata": {},
     "output_type": "execute_result"
    }
   ],
   "source": [
    "qlearning(env, gamma = 0.9, alpha = 0.1, epsilon=0.5, nb_ep_limit = 5000, D=4000)"
   ]
  },
  {
   "cell_type": "code",
   "execution_count": 58,
   "metadata": {},
   "outputs": [],
   "source": [
    "def sarsa(env, gamma = 0.5, alpha = 0.5, epsilon = 0.5, T0 = 100, nb_ep_limit = 1000, D = 4000, methode = \"egreedy\"):\n",
    "    na = env.get_nb_actions()\n",
    "    q = np.zeros((env.get_nb_states(), na))\n",
    "    gain = np.zeros(nb_ep_limit)\n",
    "    nbs = np.zeros(nb_ep_limit)\n",
    "    \n",
    "    for k in range(1, nb_ep_limit+1):      \n",
    "        \n",
    "        s = env.reset()\n",
    "        \n",
    "        if methode == \"egreedy\":\n",
    "            a = egreedy(q, s, k, epsilon, D)\n",
    "        elif methode == \"softmax\":\n",
    "            a = softmax(q, s, k, T0, D)\n",
    "        else:\n",
    "            print(\"Méthode non reconnue\")\n",
    "            sys.exit()\n",
    "            \n",
    "        while not env.is_final(s):\n",
    "            \n",
    "            ns, r, final, _ = env.step(a)\n",
    "            \n",
    "            if methode == \"egreedy\":\n",
    "                na = egreedy(q, ns, k, epsilon, D)\n",
    "            elif methode == \"softmax\":\n",
    "                na = softmax(q, ns, k, T0, D)\n",
    "            else:\n",
    "                print(\"Méthode non reconnue\")\n",
    "                sys.exit()\n",
    "\n",
    "            if final:\n",
    "                \n",
    "                target = r\n",
    "            else:\n",
    "                target = r + gamma * q[ns,na]\n",
    "                \n",
    "            gain[k-1] += r\n",
    "            nbs[k-1] += 1\n",
    "            q[s, a] += alpha * (target - q[s, a])\n",
    "            s = ns\n",
    "            a=na\n",
    "    \n",
    "    return gain"
   ]
  },
  {
   "cell_type": "code",
   "execution_count": 92,
   "metadata": {},
   "outputs": [
    {
     "data": {
      "text/plain": [
       "array([ 400.,  400.,  400., ..., 1000., 1000., 1000.])"
      ]
     },
     "execution_count": 92,
     "metadata": {},
     "output_type": "execute_result"
    }
   ],
   "source": [
    "sarsa(env, gamma = 1, alpha = 0.5, epsilon=0.5, nb_ep_limit = 5000, D=4000)"
   ]
  },
  {
   "cell_type": "code",
   "execution_count": 93,
   "metadata": {},
   "outputs": [
    {
     "data": {
      "text/plain": [
       "<AxesSubplot: >"
      ]
     },
     "execution_count": 93,
     "metadata": {},
     "output_type": "execute_result"
    },
    {
     "data": {
      "image/png": "[encoded data removed]",
      "text/plain": [
       "<Figure size 640x480 with 1 Axes>"
      ]
     },
     "metadata": {},
     "output_type": "display_data"
    }
   ],
   "source": [
    "liste = sarsa(env, gamma = 1, alpha = 0.5, epsilon=0.5, nb_ep_limit = 5000, D=4000)\n",
    "sns.set_theme(style=\"darkgrid\")\n",
    "liste = liste.reshape(-1,10).mean(axis=1)\n",
    "sns.set_theme(style=\"darkgrid\")\n",
    "sns.lineplot(liste)"
   ]
  },
  {
   "cell_type": "code",
   "execution_count": 86,
   "metadata": {},
   "outputs": [
    {
     "data": {
      "text/plain": [
       "<AxesSubplot: >"
      ]
     },
     "execution_count": 86,
     "metadata": {},
     "output_type": "execute_result"
    },
    {
     "data": {
      "image/png": "[encoded data removed]",
      "text/plain": [
       "<Figure size 640x480 with 1 Axes>"
      ]
     },
     "metadata": {},
     "output_type": "display_data"
    }
   ],
   "source": [
    "#liste=sarsa(env, gamma = 0.5, alpha = 0.1, epsilon=0.9, nb_ep_limit = 5000, D=4000)\n",
    "#sns.set_theme(style=\"darkgrid\")\n",
    "#sns.lineplot(liste)\n",
    "\n",
    "def generate(algo, env, gamma = 0.9, alpha = 0.1, epsilon=0.5, nb_ep_limit = 5000, D=4000):\n",
    "    liste=algo(env, gamma, alpha, epsilon, nb_ep_limit, D)\n",
    "    liste = liste.reshape(-1,10).mean(axis=1)\n",
    "    sns.set_theme(style=\"darkgrid\")\n",
    "    return sns.lineplot(liste)\n",
    "\n",
    "generate(sarsa, env)   "
   ]
  },
  {
   "cell_type": "code",
   "execution_count": 107,
   "metadata": {},
   "outputs": [],
   "source": [
    "def softmax(q, s, nb_episode, T0, D):\n",
    "    \n",
    "    if nb_episode <= D:\n",
    "        T = T0\n",
    "    else:\n",
    "        T = T0 / math.sqrt(nb_episode - D)\n",
    "        \n",
    "    exp_val = [math.exp(i / T) for i in q[s]]\n",
    "    softmax_values = [i / np.sum(exp_val) for i in exp_val]\n",
    "    return random.choices(range(len(q[s])), np.divide(softmax_values, np.sum(softmax_values)), k=1)[0]      \n"
   ]
  },
  {
   "cell_type": "code",
   "execution_count": 113,
   "metadata": {},
   "outputs": [],
   "source": [
    "def qlearning(env, gamma = 0.5, alpha = 0.5, epsilon = 0.5, T0 = 100, nb_ep_limit = 1000, D = 4000, methode = \"egreedy\"):\n",
    "    \n",
    "    na = env.get_nb_actions()\n",
    "    q = np.zeros((env.get_nb_states(), na))\n",
    "    gain = np.zeros(nb_ep_limit)\n",
    "    nbs = np.zeros(nb_ep_limit)\n",
    "    \n",
    "    for k in range(1, nb_ep_limit+1):      \n",
    "        \n",
    "        s = env.reset()\n",
    "        while not env.is_final(s):\n",
    "            \n",
    "            if methode == \"egreedy\":\n",
    "                a = egreedy(q, s, k, epsilon, D)\n",
    "            elif methode == \"softmax\":\n",
    "                a = softmax(q, s, k, T0, D)\n",
    "            else:\n",
    "                print(\"Méthode non reconnue\")\n",
    "                sys.exit()\n",
    "            \n",
    "            ns, r, final, _ = env.step(a)\n",
    "            \n",
    "            if final:\n",
    "                \n",
    "                target = r\n",
    "            else:\n",
    "                target = r + gamma * np.max(q[ns])\n",
    "                \n",
    "            gain[k-1] += r\n",
    "            nbs[k-1] += 1\n",
    "            q[s, a] += alpha * (target - q[s, a])\n",
    "            s = ns\n",
    "    \n",
    "    return gain"
   ]
  }
 ],
 "metadata": {
  "kernelspec": {
   "display_name": "base",
   "language": "python",
   "name": "python3"
  },
  "language_info": {
   "codemirror_mode": {
    "name": "ipython",
    "version": 3
   },
   "file_extension": ".py",
   "mimetype": "text/x-python",
   "name": "python",
   "nbconvert_exporter": "python",
   "pygments_lexer": "ipython3",
   "version": "3.9.15"
  },
  "vscode": {
   "interpreter": {
    "hash": "4af8cec4802a41f49ab1f00a5a9b83e56c7bfa9f7da8e688cef242483257646b"
   }
  }
 },
 "nbformat": 4,
 "nbformat_minor": 2
}
